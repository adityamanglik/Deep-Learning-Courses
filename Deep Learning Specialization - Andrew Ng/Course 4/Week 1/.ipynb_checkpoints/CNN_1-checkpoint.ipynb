{
 "cells": [
  {
   "cell_type": "markdown",
   "metadata": {},
   "source": [
    "Implement the following functions:\n",
    "* Convolution Functions\n",
    "  * Zero padding\n",
    "  * Convolution window\n",
    "  * Forward pass\n",
    "  * Backward pass\n",
    "\n",
    "* Pooling Functions\n",
    "  * Create Mask\n",
    "  * Distribute Values\n",
    "  * Pool Forward pass\n",
    "  * Pool Backward pass"
   ]
  },
  {
   "cell_type": "code",
   "execution_count": null,
   "metadata": {},
   "outputs": [],
   "source": []
  }
 ],
 "metadata": {
  "kernelspec": {
   "display_name": "Python 3",
   "language": "python",
   "name": "python3"
  },
  "language_info": {
   "codemirror_mode": {
    "name": "ipython",
    "version": 3
   },
   "file_extension": ".py",
   "mimetype": "text/x-python",
   "name": "python",
   "nbconvert_exporter": "python",
   "pygments_lexer": "ipython3",
   "version": "3.6.10"
  }
 },
 "nbformat": 4,
 "nbformat_minor": 4
}
